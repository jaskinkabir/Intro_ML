{
 "cells": [
  {
   "cell_type": "code",
   "execution_count": 1,
   "metadata": {},
   "outputs": [],
   "source": [
    "import torch\n",
    "import torch.nn as nn\n",
    "import torch.optim as optim\n",
    "from torch.utils.data import DataLoader, TensorDataset\n",
    "from sklearn.model_selection import train_test_split\n",
    "from sklearn.preprocessing import StandardScaler\n",
    "import pandas as pd\n",
    "import numpy as np\n"
   ]
  },
  {
   "cell_type": "code",
   "execution_count": 3,
   "metadata": {},
   "outputs": [
    {
     "name": "stdout",
     "output_type": "stream",
     "text": [
      "Epoch 0/5000, Training Loss: 20573526687744.0, Validation Loss: 22797747224576.0\n",
      "Epoch 500/5000, Training Loss: 2143041880064.0, Validation Loss: 2832338255872.0\n",
      "Epoch 1000/5000, Training Loss: 1162080681984.0, Validation Loss: 2340031037440.0\n",
      "Epoch 1500/5000, Training Loss: 1586125209600.0, Validation Loss: 2089591111680.0\n",
      "Epoch 2000/5000, Training Loss: 1380664737792.0, Validation Loss: 1953160495104.0\n",
      "Epoch 2500/5000, Training Loss: 2240179339264.0, Validation Loss: 1877811920896.0\n",
      "Epoch 3000/5000, Training Loss: 902428622848.0, Validation Loss: 1838378647552.0\n",
      "Epoch 3500/5000, Training Loss: 1059672621056.0, Validation Loss: 1826636431360.0\n",
      "Epoch 4000/5000, Training Loss: 1015589765120.0, Validation Loss: 1816909971456.0\n",
      "Epoch 4500/5000, Training Loss: 920949555200.0, Validation Loss: 1811508363264.0\n",
      "Epoch 5000/5000, Training Loss: 1255986692096.0, Validation Loss: 1804847022080.0\n"
     ]
    }
   ],
   "source": [
    "data = pd.read_csv('housing.csv')\n",
    "\n",
    "# Map string variables to binary values\n",
    "variable_list = ['mainroad', 'guestroom', 'basement', 'hotwaterheating', 'airconditioning', 'prefarea']\n",
    "\n",
    "def binary_mapping(x):\n",
    "  return x.map({'no' : 0, 'yes' : 1})\n",
    "\n",
    "data[variable_list] = data[variable_list].apply(binary_mapping)\n",
    "data = data.drop('furnishingstatus', axis=1)\n",
    "\n",
    "# Assuming the target variable is 'housing_value', adjust accordingly\n",
    "y = data['price'].values\n",
    "data = data.drop('price', axis=1)\n",
    "x = data.values\n",
    "\n",
    "# Split the dataset into training and validation sets\n",
    "x_train, x_val, y_train, y_val = train_test_split(x, y, test_size=0.8, random_state=42)\n",
    "\n",
    "# Standardize the input features\n",
    "scaler = StandardScaler()\n",
    "x_train = scaler.fit_transform(x_train)\n",
    "x_val = scaler.transform(x_val)\n",
    "\n",
    "# Standardize the output features\n",
    "scaler_y = StandardScaler()\n",
    "y_train_scaled = scaler_y.fit_transform(y_train.reshape(-1, 1)).flatten()\n",
    "y_val_scaled = scaler_y.transform(y_val.reshape(-1, 1)).flatten()\n",
    "\n",
    "# Convert data to PyTorch tensors\n",
    "x_train_tensor = torch.tensor(x_train, dtype=torch.float32)\n",
    "y_train_tensor = torch.tensor(y_train, dtype=torch.float32)\n",
    "x_val_tensor = torch.tensor(x_val, dtype=torch.float32)\n",
    "y_val_tensor = torch.tensor(y_val, dtype=torch.float32)\n",
    "\n",
    "# Create DataLoader for training and validation sets\n",
    "train_dataset = TensorDataset(x_train_tensor, y_train_tensor)\n",
    "train_loader = DataLoader(train_dataset, batch_size=32, shuffle=True)\n",
    "\n",
    "val_dataset = TensorDataset(x_val_tensor, y_val_tensor)\n",
    "val_loader = DataLoader(val_dataset, batch_size=32)\n",
    "\n",
    "# Define the model\n",
    "model = nn.Sequential(\n",
    "    nn.Linear(x_train.shape[1], 32),\n",
    "    nn.Tanh(),\n",
    "    nn.Linear(32, 1)\n",
    ")\n",
    "\n",
    "# Define loss function and optimizer\n",
    "criterion = nn.MSELoss()\n",
    "optimizer = optim.SGD(model.parameters(), lr=0.001)\n",
    "\n",
    "# Training loop\n",
    "epochs = 5000\n",
    "for epoch in range(epochs+1):\n",
    "    model.train()\n",
    "    for inputs, targets in train_loader:\n",
    "        optimizer.zero_grad()\n",
    "        outputs = model(inputs)\n",
    "        loss = criterion(outputs.squeeze(), targets)\n",
    "        loss.backward()\n",
    "        optimizer.step()\n",
    "\n",
    "    # Validation\n",
    "    model.eval()\n",
    "    with torch.no_grad():\n",
    "        val_outputs = model(x_val_tensor)\n",
    "        val_loss = criterion(val_outputs.squeeze(), y_val_tensor)\n",
    "        if epoch % 500 == 0:\n",
    "          print(f'Epoch {epoch}/{epochs}, Training Loss: {loss.item()}, Validation Loss: {val_loss.item()}')"
   ]
  },
  {
   "cell_type": "code",
   "execution_count": null,
   "metadata": {},
   "outputs": [],
   "source": []
  }
 ],
 "metadata": {
  "kernelspec": {
   "display_name": "Python 3",
   "language": "python",
   "name": "python3"
  },
  "language_info": {
   "codemirror_mode": {
    "name": "ipython",
    "version": 3
   },
   "file_extension": ".py",
   "mimetype": "text/x-python",
   "name": "python",
   "nbconvert_exporter": "python",
   "pygments_lexer": "ipython3",
   "version": "3.11.10"
  }
 },
 "nbformat": 4,
 "nbformat_minor": 2
}
