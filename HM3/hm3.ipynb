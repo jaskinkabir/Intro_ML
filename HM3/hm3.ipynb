{
 "cells": [
  {
   "cell_type": "markdown",
   "metadata": {},
   "source": [
    "# Intro ML Homework 3\n",
    "## Name: Jaskin Kabir\n",
    "## Student ID: 801186717\n",
    "Github: https://github.com/jaskinkabir/Intro_ML/tree/main/HM3"
   ]
  },
  {
   "cell_type": "code",
   "execution_count": 1,
   "metadata": {},
   "outputs": [
    {
     "name": "stdout",
     "output_type": "stream",
     "text": [
      "   Pregnancies  Glucose  BloodPressure  SkinThickness  Insulin   BMI  \\\n",
      "0            6      148             72             35        0  33.6   \n",
      "1            1       85             66             29        0  26.6   \n",
      "2            8      183             64              0        0  23.3   \n",
      "3            1       89             66             23       94  28.1   \n",
      "4            0      137             40             35      168  43.1   \n",
      "\n",
      "   DiabetesPedigreeFunction  Age  Outcome  \n",
      "0                     0.627   50        1  \n",
      "1                     0.351   31        0  \n",
      "2                     0.672   32        1  \n",
      "3                     0.167   21        0  \n",
      "4                     2.288   33        1  \n"
     ]
    }
   ],
   "source": [
    "import numpy as np\n",
    "import pandas as pd\n",
    "import matplotlib.pyplot as plt\n",
    "\n",
    "\n",
    "\n",
    "path = 'diabetes.csv'\n",
    "\n",
    "dataset = pd.read_csv(path)\n",
    "print(dataset.head())"
   ]
  },
  {
   "cell_type": "code",
   "execution_count": 2,
   "metadata": {},
   "outputs": [],
   "source": [
    "from sklearn.model_selection import train_test_split\n",
    "from sklearn.preprocessing import StandardScaler\n",
    "\n",
    "X_data = dataset.iloc[:, :-1].values\n",
    "Y_data = dataset.iloc[:, -1].values\n",
    "X_train, X_test, Y_train, Y_test = train_test_split(X_data, Y_data, test_size=0.2, random_state=0)\n",
    "\n",
    "scaler = StandardScaler()\n",
    "scaler.fit(X_data)\n",
    "X_train = scaler.transform(X_train)\n",
    "X_test = scaler.transform(X_test)"
   ]
  },
  {
   "cell_type": "code",
   "execution_count": null,
   "metadata": {},
   "outputs": [],
   "source": [
    "def gen_data(df: pd.DataFrame):\n",
    "    if isinstance(df, pd.DataFrame):\n",
    "        data = df.to_numpy()\n",
    "    data = df\n",
    "    X0 = np.ones((data.shape[0], 1))\n",
    "    X = np.hstack((X0, data))\n",
    "    return X\n",
    "\n",
    "X_train = gen_data(X_train)\n",
    "X_test = gen_data(X_test)"
   ]
  },
  {
   "cell_type": "code",
   "execution_count": null,
   "metadata": {},
   "outputs": [],
   "source": []
  },
  {
   "cell_type": "code",
   "execution_count": 15,
   "metadata": {},
   "outputs": [],
   "source": [
    "import sys\n",
    "import io\n",
    "\n",
    "\n",
    "class DisplayLossCurve(object):\n",
    "  def __init__(self, print_loss=False):\n",
    "    self.print_loss = print_loss\n",
    "\n",
    "  \"\"\"Make sure the model verbose is set to 1\"\"\"\n",
    "  def __enter__(self):\n",
    "    self.old_stdout = sys.stdout\n",
    "    sys.stdout = self.mystdout = io.StringIO()\n",
    "  \n",
    "  def __exit__(self, *args, **kwargs):\n",
    "    sys.stdout = self.old_stdout\n",
    "    loss_history = self.mystdout.getvalue()\n",
    "    loss_list = []\n",
    "    for line in loss_history.split('\\n'):\n",
    "      if(len(line.split(\"loss: \")) == 1):\n",
    "        continue\n",
    "      loss_list.append(float(line.split(\"loss: \")[-1]))\n",
    "    plt.figure()\n",
    "    plt.plot(np.arange(len(loss_list)), loss_list)\n",
    "    plt.xlabel(\"Epoch\")\n",
    "    plt.ylabel(\"Loss\")\n",
    "\n",
    "    if self.print_loss:\n",
    "      print(\"=============== Loss Array ===============\")\n",
    "      print(np.array(loss_list))\n",
    "      \n",
    "    return True"
   ]
  },
  {
   "cell_type": "code",
   "execution_count": 16,
   "metadata": {},
   "outputs": [
    {
     "name": "stdout",
     "output_type": "stream",
     "text": [
      "=============== Loss Array ===============\n",
      "[]\n"
     ]
    },
    {
     "data": {
      "image/png": "[encoded data removed]",
      "text/plain": [
       "<Figure size 640x480 with 1 Axes>"
      ]
     },
     "metadata": {},
     "output_type": "display_data"
    }
   ],
   "source": [
    "from sklearn.linear_model import LogisticRegression\n",
    "from sklearn import metrics\n",
    "\n",
    "iters = 75\n",
    "loss_hist = np.zeros(iters)\n",
    "accuracy_hist = np.zeros(iters)\n",
    "with DisplayLossCurve(print_loss=True):\n",
    "    model = LogisticRegression(max_iter=iters)\n",
    "    model.fit(X_train, Y_train)\n",
    "    Y_pred = model.predict(X_test)\n",
    "    loss_hist = model.loss_curve_\n",
    "    accuracy_hist = metrics.accuracy_score(Y_test, Y_pred)\n"
   ]
  },
  {
   "cell_type": "code",
   "execution_count": 4,
   "metadata": {},
   "outputs": [
    {
     "data": {
      "text/plain": [
       "array([[98,  9],\n",
       "       [18, 29]], dtype=int64)"
      ]
     },
     "execution_count": 4,
     "metadata": {},
     "output_type": "execute_result"
    }
   ],
   "source": [
    "from sklearn.metrics import confusion_matrix\n",
    "cnf_mat = confusion_matrix(Y_test, Y_pred)\n",
    "cnf_mat"
   ]
  },
  {
   "cell_type": "code",
   "execution_count": 5,
   "metadata": {},
   "outputs": [],
   "source": [
    "from sklearn import metrics\n",
    "\n"
   ]
  }
 ],
 "metadata": {
  "kernelspec": {
   "display_name": "Python 3",
   "language": "python",
   "name": "python3"
  },
  "language_info": {
   "codemirror_mode": {
    "name": "ipython",
    "version": 3
   },
   "file_extension": ".py",
   "mimetype": "text/x-python",
   "name": "python",
   "nbconvert_exporter": "python",
   "pygments_lexer": "ipython3",
   "version": "3.10.11"
  }
 },
 "nbformat": 4,
 "nbformat_minor": 2
}
