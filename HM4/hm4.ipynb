{
 "cells": [
  {
   "cell_type": "markdown",
   "metadata": {},
   "source": [
    "# Intro ML Homework 4\n",
    "## Name: Jaskin Kabir\n",
    "## Student ID: 801186717\n",
    "Github: https://github.com/jaskinkabir/Intro_ML/tree/main/HM4"
   ]
  },
  {
   "cell_type": "code",
   "execution_count": 1,
   "metadata": {},
   "outputs": [],
   "source": [
    "import numpy as np\n",
    "import pandas as pd\n",
    "import matplotlib.pyplot as plt\n",
    "import matplotlib as mpl\n",
    "\n",
    "from sklearn.datasets import load_breast_cancer\n",
    "from sklearn.model_selection import train_test_split\n",
    "from sklearn.preprocessing import StandardScaler\n",
    "from sklearn.decomposition import PCA\n",
    "from sklearn.svm import SVC\n",
    "from sklearn import metrics\n",
    "\n",
    "cancer = load_breast_cancer()\n",
    "X = cancer.data\n",
    "Y = cancer.target\n",
    "X_train, X_test, Y_train, Y_test = train_test_split(X, Y, random_state=0)\n",
    "\n"
   ]
  },
  {
   "cell_type": "code",
   "execution_count": 2,
   "metadata": {},
   "outputs": [],
   "source": [
    "scale = True\n",
    "if scale:\n",
    "    scaler = StandardScaler()\n",
    "    scaler.fit(X_train)\n",
    "    X_train = scaler.transform(X_train)\n",
    "    X_test = scaler.transform(X_test)\n"
   ]
  },
  {
   "cell_type": "code",
   "execution_count": 3,
   "metadata": {},
   "outputs": [],
   "source": [
    "K=30\n",
    "accuracy_hist = np.zeros(K)\n",
    "precision_hist = np.zeros(K)\n",
    "recall_hist = np.zeros(K)\n",
    "f1_hist = np.zeros(K)\n",
    "\n",
    "for k in range(1,K+1):\n",
    "    extraction = PCA(n_components=k)  \n",
    "    X_data = extraction.fit_transform(X_train)\n",
    "    X_test = extraction.transform(X_test)\n",
    "    \n",
    "    model = SVC(kernel='linear').fit(X_data, Y_train)\n",
    "    \n",
    "    Y_pred = model.predict(X_test)\n",
    "    \n",
    "    Y_test, Y_pred = model.validate()\n",
    "    accuracy_hist[k-1] = metrics.accuracy_score(Y_test, Y_pred)\n",
    "    precision_hist[k-1] = metrics.precision_score(Y_test, Y_pred)\n",
    "    recall_hist[k-1] = metrics.recall_score(Y_test, Y_pred)\n",
    "    f1_hist[k-1] = metrics.f1_score(Y_test, Y_pred)\n",
    "    "
   ]
  },
  {
   "cell_type": "code",
   "execution_count": null,
   "metadata": {},
   "outputs": [],
   "source": [
    "K = range(1,k+1)\n",
    "plt.title(\"Problem 4: Logistic Classification Performance Over Principal Component Count \")\n",
    "plt.xlabel(\"# Of Principal Components\")\n",
    "plt.ylabel(\"Score\")\n",
    "plt.plot(K,accuracy_hist, label='Accuracy')\n",
    "plt.plot(K,precision_hist, label = 'Precision')\n",
    "plt.plot(K,recall_hist, label = 'Recall')\n",
    "plt.plot(K,f1_hist, label = 'F1 Score')\n",
    "\n",
    "plt.legend()\n",
    "plt.show()\n",
    "print(f'Max precision at K = {np.argmax(precision_hist)+1}; {max(precision_hist)}')\n",
    "print(f\"Max accuracy at K = {np.argmax(accuracy_hist)+1}; {max(accuracy_hist)}\")\n",
    "print(f\"Max recall at K = {np.argmax(recall_hist)+1}; {max(recall_hist)}\")\n",
    "print(f\"Max F1 Score at K = {np.argmax(f1_hist)+1}; {max(f1_hist)}\")"
   ]
  }
 ],
 "metadata": {
  "kernelspec": {
   "display_name": "Python 3",
   "language": "python",
   "name": "python3"
  },
  "language_info": {
   "codemirror_mode": {
    "name": "ipython",
    "version": 3
   },
   "file_extension": ".py",
   "mimetype": "text/x-python",
   "name": "python",
   "nbconvert_exporter": "python",
   "pygments_lexer": "ipython3",
   "version": "3.10.11"
  }
 },
 "nbformat": 4,
 "nbformat_minor": 2
}
